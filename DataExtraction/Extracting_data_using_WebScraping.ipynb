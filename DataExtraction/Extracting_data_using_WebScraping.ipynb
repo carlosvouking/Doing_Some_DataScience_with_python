{
 "cells": [
  {
   "cell_type": "markdown",
   "metadata": {},
   "source": [
    "# Extracting Data using Web Scraping."
   ]
  },
  {
   "cell_type": "markdown",
   "metadata": {},
   "source": [
    "### Note: it is recommended to obtain permissions from websites' administrators before attempting any scraping on their sites. Due to these reasons, we will just be scraping from a little html markup. The steps remain the same for a website"
   ]
  },
  {
   "cell_type": "code",
   "execution_count": 1,
   "metadata": {},
   "outputs": [],
   "source": [
    "import requests\n",
    "from bs4 import BeautifulSoup"
   ]
  },
  {
   "cell_type": "code",
   "execution_count": 2,
   "metadata": {},
   "outputs": [],
   "source": [
    "html_script = \"\"\"\n",
    "<!doctype html>\n",
    "<html lang=en>\n",
    "<head>\n",
    "   <title>Jupyter Notebook magic functions</title>\n",
    "<body>\n",
    "    <h1 style=\"color:DarkBlue\">Exploring Jupyter Notebook magic functions</h1>\n",
    "    <p id=\"author\">Author :: Carlos St Valery Vouking.</p>\n",
    "    <p id=\"description\"> These so called 'magical functions' are used to extend the development environment to an entire new level.\n",
    "       'Magical functions' always begin with a '%' sign for a single line and '%%' for a multiline. We will explore some of them here</p>\n",
    "     <h3 style=\"color:red\">Magical Functions</h3>\n",
    "     <table id=\"function\">\n",
    "     <tr>\n",
    "        <th>Function</th>\n",
    "        <th>Representation</th>\n",
    "        <th>Usage</th>\n",
    "     </tr>\n",
    "     <tr>\n",
    "        <td> Matplotlib</td>\n",
    "        <td>%matplotlib inline</td>\n",
    "        <td>Matplotlib is a very used data vizualization package in python. 'inline' to show the visualizations inside jupyter notebook itself.</td>\n",
    "     </tr>\n",
    "     <tr>\n",
    "        <td>time</td>\n",
    "        <td>%time x = range(100000)</td>\n",
    "        <td>time() function helps in measuring estimation time.</td>\n",
    "     </tr>\n",
    "     <tr>\n",
    "        <td>writefile</td>\n",
    "        <td>%%writefile write_file.py</td>\n",
    "        <td>writefile creates a file and write in it. If the file exists it is overwritten otherwise it is created.</td>\n",
    "     </tr>\n",
    "     <tr>\n",
    "        <td>HTML</td>\n",
    "        <td>%%HTML -- <i> Image embedded in jupyter notebook </i></td>\n",
    "        <td>HTML() is used to embed html markup in jypyter notebook</td>\n",
    "     </tr>\n",
    "     <tr>\n",
    "        <td>Latex</td>\n",
    "        <td>%%latex F(x)= Ax + B</td>\n",
    "        <td>Embed equations in notebook with latex() magical function</td>\n",
    "     </tr>\n",
    "      <tr>\n",
    "        <td>load_ext</td>\n",
    "        <td>%load_ext sql</td>\n",
    "        <td>load_ext() is used to load other extensions. For instance, a sql code can be plugged right in the notebook</td>\n",
    "     </tr>     \n",
    "     \n",
    "     </table>\n",
    "</body>\n",
    "</head>\n",
    "\n",
    "</html>\n",
    "\"\"\""
   ]
  },
  {
   "cell_type": "code",
   "execution_count": 3,
   "metadata": {},
   "outputs": [
    {
     "data": {
      "text/html": [
       "\n",
       "<!doctype html>\n",
       "<html lang=en>\n",
       "<head>\n",
       "   <title>Jupyter Notebook magic functions</title>\n",
       "<body>\n",
       "    <h1 style=\"color:DarkBlue\">Exploring Jupyter Notebook magic functions</h1>\n",
       "    <p id=\"author\">Author :: Carlos St Valery Vouking.</p>\n",
       "    <p id=\"description\"> These so called 'magical functions' are used to extend the development environment to an entire new level.\n",
       "       'Magical functions' always begin with a '%' sign for a single line and '%%' for a multiline. We will explore some of them here</p>\n",
       "     <h3 style=\"color:red\">Magical Functions</h3>\n",
       "     <table id=\"function\">\n",
       "     <tr>\n",
       "        <th>Function</th>\n",
       "        <th>Representation</th>\n",
       "        <th>Usage</th>\n",
       "     </tr>\n",
       "     <tr>\n",
       "        <td> Matplotlib</td>\n",
       "        <td>%matplotlib inline</td>\n",
       "        <td>Matplotlib is a very used data vizualization package in python. 'inline' to show the visualizations inside jupyter notebook itself.</td>\n",
       "     </tr>\n",
       "     <tr>\n",
       "        <td>time</td>\n",
       "        <td>%time x = range(100000)</td>\n",
       "        <td>time() function helps in measuring estimation time.</td>\n",
       "     </tr>\n",
       "     <tr>\n",
       "        <td>writefile</td>\n",
       "        <td>%%writefile write_file.py</td>\n",
       "        <td>writefile creates a file and write in it. If the file exists it is overwritten otherwise it is created.</td>\n",
       "     </tr>\n",
       "     <tr>\n",
       "        <td>HTML</td>\n",
       "        <td>%%HTML -- <i> Image embedded in jupyter notebook </i></td>\n",
       "        <td>HTML() is used to embed html markup in jypyter notebook</td>\n",
       "     </tr>\n",
       "     <tr>\n",
       "        <td>Latex</td>\n",
       "        <td>%%latex F(x)= Ax + B</td>\n",
       "        <td>Embed equations in notebook with latex() magical function</td>\n",
       "     </tr>\n",
       "      <tr>\n",
       "        <td>load_ext</td>\n",
       "        <td>%load_ext sql</td>\n",
       "        <td>load_ext() is used to load other extensions. For instance, a sql code can be plugged right in the notebook</td>\n",
       "     </tr>     \n",
       "     \n",
       "     </table>\n",
       "</body>\n",
       "</head>\n",
       "\n",
       "</html>\n"
      ],
      "text/plain": [
       "<IPython.core.display.HTML object>"
      ]
     },
     "metadata": {},
     "output_type": "display_data"
    }
   ],
   "source": [
    "from IPython.core.display import display, HTML\n",
    "display(HTML(html_script))"
   ]
  },
  {
   "cell_type": "code",
   "execution_count": 4,
   "metadata": {},
   "outputs": [
    {
     "name": "stderr",
     "output_type": "stream",
     "text": [
      "/home/cv-dlbox/anaconda3/lib/python3.6/site-packages/bs4/__init__.py:181: UserWarning: No parser was explicitly specified, so I'm using the best available HTML parser for this system (\"lxml\"). This usually isn't a problem, but if you run this code on another system, or in a different virtual environment, it may use a different parser and behave differently.\n",
      "\n",
      "The code that caused this warning is on line 193 of the file /home/cv-dlbox/anaconda3/lib/python3.6/runpy.py. To get rid of this warning, change code that looks like this:\n",
      "\n",
      " BeautifulSoup(YOUR_MARKUP})\n",
      "\n",
      "to this:\n",
      "\n",
      " BeautifulSoup(YOUR_MARKUP, \"lxml\")\n",
      "\n",
      "  markup_type=markup_type))\n"
     ]
    }
   ],
   "source": [
    "ps = BeautifulSoup(html_script)"
   ]
  },
  {
   "cell_type": "code",
   "execution_count": 5,
   "metadata": {},
   "outputs": [
    {
     "data": {
      "text/plain": [
       "<!DOCTYPE html>\n",
       "<html lang=\"en\">\n",
       "<head>\n",
       "<title>Jupyter Notebook magic functions</title>\n",
       "</head><body>\n",
       "<h1 style=\"color:DarkBlue\">Exploring Jupyter Notebook magic functions</h1>\n",
       "<p id=\"author\">Author :: Carlos St Valery Vouking.</p>\n",
       "<p id=\"description\"> These so called 'magical functions' are used to extend the development environment to an entire new level.\n",
       "       'Magical functions' always begin with a '%' sign for a single line and '%%' for a multiline. We will explore some of them here</p>\n",
       "<h3 style=\"color:red\">Magical Functions</h3>\n",
       "<table id=\"function\">\n",
       "<tr>\n",
       "<th>Function</th>\n",
       "<th>Representation</th>\n",
       "<th>Usage</th>\n",
       "</tr>\n",
       "<tr>\n",
       "<td> Matplotlib</td>\n",
       "<td>%matplotlib inline</td>\n",
       "<td>Matplotlib is a very used data vizualization package in python. 'inline' to show the visualizations inside jupyter notebook itself.</td>\n",
       "</tr>\n",
       "<tr>\n",
       "<td>time</td>\n",
       "<td>%time x = range(100000)</td>\n",
       "<td>time() function helps in measuring estimation time.</td>\n",
       "</tr>\n",
       "<tr>\n",
       "<td>writefile</td>\n",
       "<td>%%writefile write_file.py</td>\n",
       "<td>writefile creates a file and write in it. If the file exists it is overwritten otherwise it is created.</td>\n",
       "</tr>\n",
       "<tr>\n",
       "<td>HTML</td>\n",
       "<td>%%HTML -- <i> Image embedded in jupyter notebook </i></td>\n",
       "<td>HTML() is used to embed html markup in jypyter notebook</td>\n",
       "</tr>\n",
       "<tr>\n",
       "<td>Latex</td>\n",
       "<td>%%latex F(x)= Ax + B</td>\n",
       "<td>Embed equations in notebook with latex() magical function</td>\n",
       "</tr>\n",
       "<tr>\n",
       "<td>load_ext</td>\n",
       "<td>%load_ext sql</td>\n",
       "<td>load_ext() is used to load other extensions. For instance, a sql code can be plugged right in the notebook</td>\n",
       "</tr>\n",
       "</table>\n",
       "</body>\n",
       "</html>"
      ]
     },
     "execution_count": 5,
     "metadata": {},
     "output_type": "execute_result"
    }
   ],
   "source": [
    "ps"
   ]
  },
  {
   "cell_type": "code",
   "execution_count": 6,
   "metadata": {},
   "outputs": [],
   "source": [
    "# use the name parameter to extract by tag name: 'body'\n",
    "body = ps.find(name=\"body\")"
   ]
  },
  {
   "cell_type": "code",
   "execution_count": 7,
   "metadata": {},
   "outputs": [
    {
     "name": "stdout",
     "output_type": "stream",
     "text": [
      "<body>\n",
      "<h1 style=\"color:DarkBlue\">Exploring Jupyter Notebook magic functions</h1>\n",
      "<p id=\"author\">Author :: Carlos St Valery Vouking.</p>\n",
      "<p id=\"description\"> These so called 'magical functions' are used to extend the development environment to an entire new level.\n",
      "       'Magical functions' always begin with a '%' sign for a single line and '%%' for a multiline. We will explore some of them here</p>\n",
      "<h3 style=\"color:red\">Magical Functions</h3>\n",
      "<table id=\"function\">\n",
      "<tr>\n",
      "<th>Function</th>\n",
      "<th>Representation</th>\n",
      "<th>Usage</th>\n",
      "</tr>\n",
      "<tr>\n",
      "<td> Matplotlib</td>\n",
      "<td>%matplotlib inline</td>\n",
      "<td>Matplotlib is a very used data vizualization package in python. 'inline' to show the visualizations inside jupyter notebook itself.</td>\n",
      "</tr>\n",
      "<tr>\n",
      "<td>time</td>\n",
      "<td>%time x = range(100000)</td>\n",
      "<td>time() function helps in measuring estimation time.</td>\n",
      "</tr>\n",
      "<tr>\n",
      "<td>writefile</td>\n",
      "<td>%%writefile write_file.py</td>\n",
      "<td>writefile creates a file and write in it. If the file exists it is overwritten otherwise it is created.</td>\n",
      "</tr>\n",
      "<tr>\n",
      "<td>HTML</td>\n",
      "<td>%%HTML -- <i> Image embedded in jupyter notebook </i></td>\n",
      "<td>HTML() is used to embed html markup in jypyter notebook</td>\n",
      "</tr>\n",
      "<tr>\n",
      "<td>Latex</td>\n",
      "<td>%%latex F(x)= Ax + B</td>\n",
      "<td>Embed equations in notebook with latex() magical function</td>\n",
      "</tr>\n",
      "<tr>\n",
      "<td>load_ext</td>\n",
      "<td>%load_ext sql</td>\n",
      "<td>load_ext() is used to load other extensions. For instance, a sql code can be plugged right in the notebook</td>\n",
      "</tr>\n",
      "</table>\n",
      "</body>\n"
     ]
    }
   ],
   "source": [
    "print(body)"
   ]
  },
  {
   "cell_type": "code",
   "execution_count": 8,
   "metadata": {},
   "outputs": [
    {
     "name": "stdout",
     "output_type": "stream",
     "text": [
      "Exploring Jupyter Notebook magic functions\n"
     ]
    }
   ],
   "source": [
    "# use text attribute to get the content of the tag\n",
    "print(body.find(name=\"h1\").text)"
   ]
  },
  {
   "cell_type": "code",
   "execution_count": 9,
   "metadata": {},
   "outputs": [
    {
     "name": "stdout",
     "output_type": "stream",
     "text": [
      "<p id=\"author\">Author :: Carlos St Valery Vouking.</p>\n"
     ]
    }
   ],
   "source": [
    "# get the first element\n",
    "print(body.find(name=\"p\"))"
   ]
  },
  {
   "cell_type": "code",
   "execution_count": 10,
   "metadata": {},
   "outputs": [
    {
     "name": "stdout",
     "output_type": "stream",
     "text": [
      "[<p id=\"author\">Author :: Carlos St Valery Vouking.</p>, <p id=\"description\"> These so called 'magical functions' are used to extend the development environment to an entire new level.\n",
      "       'Magical functions' always begin with a '%' sign for a single line and '%%' for a multiline. We will explore some of them here</p>]\n"
     ]
    }
   ],
   "source": [
    "# get all elements\n",
    "print(body.findAll(name=\"p\"))"
   ]
  },
  {
   "cell_type": "code",
   "execution_count": 11,
   "metadata": {},
   "outputs": [
    {
     "name": "stdout",
     "output_type": "stream",
     "text": [
      "Author :: Carlos St Valery Vouking.\n",
      " These so called 'magical functions' are used to extend the development environment to an entire new level.\n",
      "       'Magical functions' always begin with a '%' sign for a single line and '%%' for a multiline. We will explore some of them here\n"
     ]
    }
   ],
   "source": [
    "# iterate through each element\n",
    "all_elements = [elt for elt in body.findAll(name=\"p\")]\n",
    "for p in all_elements:\n",
    "    print(p.text)"
   ]
  },
  {
   "cell_type": "markdown",
   "metadata": {},
   "source": [
    "* Add attributes in the selection process"
   ]
  },
  {
   "cell_type": "code",
   "execution_count": 12,
   "metadata": {},
   "outputs": [
    {
     "name": "stdout",
     "output_type": "stream",
     "text": [
      "<p id=\"author\">Author :: Carlos St Valery Vouking.</p>\n"
     ]
    }
   ],
   "source": [
    "print(body.find(name=\"p\", attrs={\"id\":\"author\"}))"
   ]
  },
  {
   "cell_type": "code",
   "execution_count": 13,
   "metadata": {},
   "outputs": [
    {
     "name": "stdout",
     "output_type": "stream",
     "text": [
      "<p id=\"description\"> These so called 'magical functions' are used to extend the development environment to an entire new level.\n",
      "       'Magical functions' always begin with a '%' sign for a single line and '%%' for a multiline. We will explore some of them here</p>\n"
     ]
    }
   ],
   "source": [
    "print(body.find(name=\"p\", attrs ={\"id\":\"description\"}))"
   ]
  },
  {
   "cell_type": "markdown",
   "metadata": {},
   "source": [
    "* set up the complete scraping process."
   ]
  },
  {
   "cell_type": "code",
   "execution_count": 17,
   "metadata": {},
   "outputs": [
    {
     "name": "stdout",
     "output_type": "stream",
     "text": [
      " Matplotlib %matplotlib inline\n",
      "time %time x = range(100000)\n",
      "writefile %%writefile write_file.py\n",
      "HTML %%HTML --  Image embedded in jupyter notebook \n",
      "Latex %%latex F(x)= Ax + B\n",
      "load_ext %load_ext sql\n"
     ]
    }
   ],
   "source": [
    "# body\n",
    "body = ps.find(name = \"body\")\n",
    "# table\n",
    "function_table = ps.find(name='table', attrs={\"id\": \"function\"})\n",
    "# Iterate through each row ine table,,,skip the first row\n",
    "All_rows_first_row_skipped = function_table.findAll(name=\"tr\")[1:]\n",
    "\n",
    "for row in All_rows_first_row_skipped:\n",
    "    #function\n",
    "    function = row.findAll(name = 'td')[0].text\n",
    "    #representation\n",
    "    representation = row.findAll(name = 'td')[1].text\n",
    "    #usage\n",
    "    usage = row.findAll(name = 'td')[2].text\n",
    "    \n",
    "    print(function, representation)    "
   ]
  },
  {
   "cell_type": "code",
   "execution_count": null,
   "metadata": {},
   "outputs": [],
   "source": []
  }
 ],
 "metadata": {
  "kernelspec": {
   "display_name": "Python 3",
   "language": "python",
   "name": "python3"
  },
  "language_info": {
   "codemirror_mode": {
    "name": "ipython",
    "version": 3
   },
   "file_extension": ".py",
   "mimetype": "text/x-python",
   "name": "python",
   "nbconvert_exporter": "python",
   "pygments_lexer": "ipython3",
   "version": "3.6.5"
  }
 },
 "nbformat": 4,
 "nbformat_minor": 2
}
